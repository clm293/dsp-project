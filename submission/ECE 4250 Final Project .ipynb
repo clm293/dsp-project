{
 "cells": [
  {
   "cell_type": "markdown",
   "metadata": {},
   "source": [
    "# Christine Mayer"
   ]
  },
  {
   "cell_type": "markdown",
   "metadata": {},
   "source": [
    "## clm293"
   ]
  },
  {
   "cell_type": "markdown",
   "metadata": {},
   "source": [
    "## ECE 4250 Final Project "
   ]
  },
  {
   "cell_type": "code",
   "execution_count": 28,
   "metadata": {},
   "outputs": [],
   "source": [
    "import matplotlib.pyplot as plt\n",
    "import numpy as np\n",
    "import nibabel as nib\n",
    "import matplotlib.image as mpimg\n",
    "import cv2 \n",
    "import scipy\n",
    "import scipy.optimize\n",
    "import math\n",
    "from scipy import interpolate\n",
    "from scipy.interpolate import RegularGridInterpolator\n",
    "from scipy import stats\n",
    "from prettytable import PrettyTable\n",
    "from scipy.interpolate import NearestNDInterpolator"
   ]
  },
  {
   "cell_type": "markdown",
   "metadata": {},
   "source": [
    "Just loading up images and as in from Milestone 1"
   ]
  },
  {
   "cell_type": "code",
   "execution_count": 29,
   "metadata": {},
   "outputs": [],
   "source": [
    "#milestone 1 stuff\n",
    "#loading mri files:\n",
    "#training 1-6, images and segmentations\n",
    "img1 = nib.load('/Users/Chrissy/Desktop/ECE4250/finalproject/ForClass/Training/IBSR_01/images/analyze/IBSR_01_ana.img')\n",
    "img2 = nib.load('/Users/Chrissy/Desktop/ECE4250/finalproject/ForClass/Training/IBSR_02/images/analyze/IBSR_02_ana.img')\n",
    "img3 = nib.load('/Users/Chrissy/Desktop/ECE4250/finalproject/ForClass/Training/IBSR_03/images/analyze/IBSR_03_ana.img')\n",
    "img4 = nib.load('/Users/Chrissy/Desktop/ECE4250/finalproject/ForClass/Training/IBSR_04/images/analyze/IBSR_04_ana.img')\n",
    "img5 = nib.load('/Users/Chrissy/Desktop/ECE4250/finalproject/ForClass/Training/IBSR_05/images/analyze/IBSR_05_ana.img')\n",
    "img6 = nib.load('/Users/Chrissy/Desktop/ECE4250/finalproject/ForClass/Training/IBSR_06/images/analyze/IBSR_06_ana.img')\n",
    "seg1 = nib.load('/Users/Chrissy/Desktop/ECE4250/finalproject/ForClass/Training/IBSR_01/segmentation/analyze/IBSR_01_seg_ana.img')\n",
    "seg2 = nib.load('/Users/Chrissy/Desktop/ECE4250/finalproject/ForClass/Training/IBSR_02/segmentation/analyze/IBSR_02_seg_ana.img')\n",
    "seg3 = nib.load('/Users/Chrissy/Desktop/ECE4250/finalproject/ForClass/Training/IBSR_03/segmentation/analyze/IBSR_03_seg_ana.img')\n",
    "seg4 = nib.load('/Users/Chrissy/Desktop/ECE4250/finalproject/ForClass/Training/IBSR_04/segmentation/analyze/IBSR_04_seg_ana.img')\n",
    "seg5 = nib.load('/Users/Chrissy/Desktop/ECE4250/finalproject/ForClass/Training/IBSR_05/segmentation/analyze/IBSR_05_seg_ana.img')\n",
    "seg6 = nib.load('/Users/Chrissy/Desktop/ECE4250/finalproject/ForClass/Training/IBSR_06/segmentation/analyze/IBSR_06_seg_ana.img')\n",
    "\n",
    "#validation 7, image and segmentation\n",
    "img7 = nib.load('/Users/Chrissy/Desktop/ECE4250/finalproject/ForClass/Validation/IBSR_07/images/analyze/IBSR_07_ana.img')\n",
    "seg7 = nib.load('/Users/Chrissy/Desktop/ECE4250/finalproject/ForClass/Validation/IBSR_07/segmentation/analyze/IBSR_07_seg_ana.img')\n",
    "#testing 8-14, images\n",
    "img8 = nib.load('/Users/Chrissy/Desktop/ECE4250/finalproject/ForClass/Testing/IBSR_08/images/analyze/IBSR_08_ana.img')\n",
    "img9 = nib.load('/Users/Chrissy/Desktop/ECE4250/finalproject/ForClass/Testing/IBSR_09/images/analyze/IBSR_09_ana.img')\n",
    "img10 = nib.load('/Users/Chrissy/Desktop/ECE4250/finalproject/ForClass/Testing/IBSR_10/images/analyze/IBSR_10_ana.img')\n",
    "img11 = nib.load('/Users/Chrissy/Desktop/ECE4250/finalproject/ForClass/Testing/IBSR_11/images/analyze/IBSR_11_ana.img')\n",
    "img12 = nib.load('/Users/Chrissy/Desktop/ECE4250/finalproject/ForClass/Testing/IBSR_12/images/analyze/IBSR_12_ana.img')\n",
    "img13 = nib.load('/Users/Chrissy/Desktop/ECE4250/finalproject/ForClass/Testing/IBSR_13/images/analyze/IBSR_13_ana.img')\n",
    "img14 = nib.load('/Users/Chrissy/Desktop/ECE4250/finalproject/ForClass/Testing/IBSR_14/images/analyze/IBSR_14_ana.img')\n",
    "#validation 15, image and segmentation\n",
    "img15 = nib.load('/Users/Chrissy/Desktop/ECE4250/finalproject/ForClass/Validation/IBSR_15/images/analyze/IBSR_15_ana.img')\n",
    "seg15 = nib.load('/Users/Chrissy/Desktop/ECE4250/finalproject/ForClass/Validation/IBSR_15/segmentation/analyze/IBSR_15_seg_ana.img')\n",
    "#last 2 testing, images\n",
    "img16 = nib.load('/Users/Chrissy/Desktop/ECE4250/finalproject/ForClass/Testing/IBSR_16/images/analyze/IBSR_16_ana.img')\n",
    "img17 = nib.load('/Users/Chrissy/Desktop/ECE4250/finalproject/ForClass/Testing/IBSR_17/images/analyze/IBSR_17_ana.img')\n",
    "\n",
    "trainingimages=[img1,img2,img3,img4,img5,img6]\n",
    "trainingseg=[seg1,seg2,seg3,seg4,seg5,seg6]\n",
    "validationimages=[img7,img15]\n",
    "validationseg=[seg7,seg15]\n",
    "testing=[img8,img9,img10,img11,img12,img13,img14,img16,img17]\n",
    "\n",
    "training_images_coronal=[]\n",
    "for i in range(len(trainingimages)):\n",
    "    slicee=trainingimages[i].get_fdata()[:, :, 64] \n",
    "    training_images_coronal.append(slicee/slicee.max())\n",
    "\n",
    "\n",
    "    \n",
    "training_seg_cornonal=[]\n",
    "for i in range(len(trainingseg)):\n",
    "    slicee=trainingseg[i].get_fdata()[:, :, 64] \n",
    "    training_seg_cornonal.append(slicee) #norm)\n",
    "\n",
    "    \n",
    "    \n",
    "validation_images_coronal=[]\n",
    "for i in range(len(validationimages)):\n",
    "    slicee=validationimages[i].get_fdata()[:, :, 64] \n",
    "    validation_images_coronal.append(slicee/slicee.max()) #norm)\n",
    "\n",
    "    \n",
    "    \n",
    "validation_seg_coronal=[]\n",
    "for i in range(len(validationseg)):\n",
    "    slicee=validationseg[i].get_fdata()[:, :, 64] \n",
    "    validation_seg_coronal.append(slicee)\n",
    "\n",
    "    \n",
    "    \n",
    "testingcoronal=[]\n",
    "for i in range(len(testing)):\n",
    "    slicee=testing[i].get_fdata()[:, :, 64] \n",
    "    testingcoronal.append(slicee/slicee.max())\n",
    "\n",
    "\n"
   ]
  },
  {
   "cell_type": "markdown",
   "metadata": {},
   "source": [
    "### Start Milestone 2 stuff!!! "
   ]
  },
  {
   "cell_type": "markdown",
   "metadata": {},
   "source": [
    "A function that takes in an input (moving) image, 4 transformation parameters (global scale, rotation, and translations along two axes) and output\n",
    "(fixed image) grid size, and computes the output (moved) image. The output image has a size of the output grid size and pixel values are obtained by\n",
    "resampling the input image onto the output grid via applying the geometric\n",
    "transformation: a global scale multiplied with a rotation matrix, followed by\n",
    "a translation. Outside-of-grid-range values can default to zero."
   ]
  },
  {
   "cell_type": "code",
   "execution_count": 30,
   "metadata": {},
   "outputs": [],
   "source": [
    "#moved with added parameters: scale x, scaley, shear x and shear y\n",
    "\n",
    "def moved(x, scale_x, scale_y, angle, translate_x,translate_y,shear_x,shear_y):\n",
    "    rad = angle*np.pi/180\n",
    "    max_sz = 256\n",
    "    b = np.linspace(-max_sz//2, max_sz//2, max_sz)\n",
    "    bb, aa = np.array(np.meshgrid(b,b))\n",
    "    \n",
    "    R = np.array([[np.cos(rad), -np.sin(rad)+shear_x],[np.sin(rad)+shear_y, np.cos(rad)]])\n",
    "    #Transform the coordinates, including shear into rotation matrix\n",
    "\n",
    "   \n",
    "    \n",
    "    c_1 = 1/scale_y*(R[0,0]*aa + R[0,1]*bb)+translate_x\n",
    "    c_2 = 1/scale_x*(R[1,0]*aa + R[1,1]*bb)-translate_y\n",
    "    \n",
    "    \n",
    "    \n",
    "    \n",
    "    b_orig = np.linspace(-128, 128, 256)\n",
    "    f = RegularGridInterpolator((b_orig, b_orig), x, bounds_error = False,fill_value=0)\n",
    "    x_out = f(np.stack((c_1, c_2), axis=2))\n",
    "    \n",
    "    \n",
    "    return x_out\n"
   ]
  },
  {
   "cell_type": "markdown",
   "metadata": {},
   "source": [
    "A loss function that takes three inputs: a length-4 vector of geometric transformation parameters, a fixed image, and a moving image. The output should\n",
    "be equal to the sum of squared differences between the geometrically transformed moved image and the fixed image."
   ]
  },
  {
   "cell_type": "code",
   "execution_count": 31,
   "metadata": {},
   "outputs": [],
   "source": [
    "def loss_fn(Params, img_fixed, img_moving):\n",
    "   \n",
    "    #inputs for moved:\n",
    "    scalex=Params[0]\n",
    "    scaley=Params[1]\n",
    "    rotation_angle=Params[2]\n",
    "    translate_x=Params[3]\n",
    "    translate_y=Params[4]\n",
    "    shear_x=Params[5]\n",
    "    shear_y=Params[6]\n",
    "    \n",
    "\n",
    "    \n",
    "    #transformation via moved function\n",
    "    transformed_moved=moved(img_moving,scalex, scaley, rotation_angle, translate_x, translate_y, shear_x, shear_y)\n",
    "    \n",
    "\n",
    "    \n",
    "    img_fixed=np.array(img_fixed)\n",
    "    transformed_moved=np.array(transformed_moved)\n",
    "    \n",
    "    #sum of squared differences:\n",
    "            \n",
    "    summ=((img_fixed-transformed_moved)**2).sum()\n",
    "    \n",
    "\n",
    "    return summ\n",
    "\n"
   ]
  },
  {
   "cell_type": "markdown",
   "metadata": {},
   "source": [
    "An optimization module that minimizes the loss function for a given input\n",
    "image pair (fixed and moving). This module should return two things: the\n",
    "transformed moving image and the optimal geometric transformation parameters."
   ]
  },
  {
   "cell_type": "code",
   "execution_count": 32,
   "metadata": {},
   "outputs": [],
   "source": [
    "def optimizer(fixed_image, moving_image):\n",
    "    \n",
    "    opt=scipy.optimize.minimize(loss_fn, [1.001,1.001,.001,.001,.001,.001,.001], args=(fixed_image, moving_image), method='BFGS', jac=None, tol=None, callback=None, options={'gtol': 1e-05, 'norm': np.inf, 'eps': 1.4901161193847656e-08, 'maxiter': None, 'disp': False, 'return_all': False})\n",
    "\n",
    "    #print(opt)\n",
    "    scalex_opt=opt.x[0]\n",
    "    scaley_opt=opt.x[1]\n",
    "    rot_opt=opt.x[2]\n",
    "    x_opt=opt.x[3]\n",
    "    y_opt=opt.x[4]\n",
    "    shear_x=opt.x[5]\n",
    "    shear_y=opt.x[6]\n",
    "    \n",
    "    return moved(moving_image, scalex_opt, scaley_opt, rot_opt, x_opt, y_opt, shear_x, shear_y), [scalex_opt, scaley_opt,rot_opt,x_opt,y_opt, shear_x, shear_y]\n"
   ]
  },
  {
   "cell_type": "markdown",
   "metadata": {},
   "source": [
    "Part 2 -- Use your registration tool to resample each training image (moving) onto each\n",
    "validation image (fixed) (i.e., you need to run 12 registration instances). Visualize\n",
    "some slices of these results. You need to show that your registration works - i.e.,\n",
    "plot results for before the registration and after the registration.\n"
   ]
  },
  {
   "cell_type": "code",
   "execution_count": 33,
   "metadata": {},
   "outputs": [],
   "source": [
    "#trainingimages[0:5]\n",
    "#validationimgages[0:1]\n",
    "\n",
    "#resampled stores an array of training images onto validation images\n",
    "\n",
    "resampled=[]\n",
    "optimalparams=np.zeros((6,2,7))\n",
    "\n",
    "for i in range(6):\n",
    "    for j in range(2):\n",
    "        \n",
    "        #print(np.max(validation_images_coronal[j]), np.max(training_images_coronal[i]))\n",
    "        img,parameters=optimizer(validation_images_coronal[j] ,training_images_coronal[i])\n",
    "        \n",
    "        resampled.append(np.array(img))\n",
    "        #print(parameters)\n",
    "        optimalparams[i][j]=[parameters[0],parameters[1],parameters[2],parameters[3], parameters[4], parameters[5], parameters[6]]\n",
    "        \n",
    "\n",
    "\n",
    "   "
   ]
  },
  {
   "cell_type": "markdown",
   "metadata": {},
   "source": [
    "Part 3 -- Apply the registration results (optimal transformations) to resample the manual segmentations of each training subject onto the validation subject grids (use\n",
    "nearest neighbor interpolation)"
   ]
  },
  {
   "cell_type": "code",
   "execution_count": 34,
   "metadata": {},
   "outputs": [],
   "source": [
    "#want to use nearest neighbor interpolator instead\n",
    "\n",
    "def moved_nearest(x, scalex, scaley, angle, translate_x,translate_y, shear_x, shear_y):\n",
    "    rad = angle*np.pi/180\n",
    "    max_sz = 256\n",
    "    b = np.linspace(-max_sz//2, max_sz//2, max_sz)\n",
    "    bb, aa = np.array(np.meshgrid(b,b))\n",
    "    R = np.array([[np.cos(rad), -np.sin(rad)+shear_x],[np.sin(rad)+shear_y, np.cos(rad)]])\n",
    "    #Transform the coordinates\n",
    "    \n",
    "    c_1 = 1/scaley*(R[0,0]*aa + R[0,1]*bb)+translate_x\n",
    "    c_2 = 1/scalex*(R[1,0]*aa + R[1,1]*bb)-translate_y\n",
    "    \n",
    "    \n",
    "    b_orig = np.linspace(-128, 128, 256)\n",
    "    f = RegularGridInterpolator((b_orig, b_orig), x,method=\"nearest\", bounds_error = False,fill_value=0)\n",
    "    x_out = f(np.stack((c_1, c_2), axis=2))\n",
    "    \n",
    "    return x_out[:,:,0]\n",
    "\n"
   ]
  },
  {
   "cell_type": "code",
   "execution_count": 35,
   "metadata": {},
   "outputs": [
    {
     "name": "stderr",
     "output_type": "stream",
     "text": [
      "/anaconda3/lib/python3.7/site-packages/scipy/interpolate/interpolate.py:2514: FutureWarning: Using a non-tuple sequence for multidimensional indexing is deprecated; use `arr[tuple(seq)]` instead of `arr[seq]`. In the future this will be interpreted as an array index, `arr[np.array(seq)]`, which will result either in an error or a different result.\n",
      "  return self.values[idx_res]\n"
     ]
    }
   ],
   "source": [
    "#parts 3 and 4 combined\n",
    "\n",
    "\n",
    "#want new moved with nearest neighbor interp\n",
    "\n",
    "seg_onto_val0 = [moved_nearest(training_seg_cornonal[0],optimalparams[0,0,0],optimalparams[0,0,1],optimalparams[0,0,2],optimalparams[0,0,3], optimalparams[0][0][4],optimalparams[0][0][5],optimalparams[0][0][6]),\n",
    "moved_nearest(training_seg_cornonal[1],optimalparams[1][0][0],optimalparams[1][0][1],optimalparams[1][0][2],optimalparams[1][0][3],optimalparams[1][0][4],optimalparams[1][0][5],optimalparams[1][0][6]),\n",
    "moved_nearest(training_seg_cornonal[2],optimalparams[2][0][0],optimalparams[2][0][1],optimalparams[2][0][2],optimalparams[2][0][3],optimalparams[2][0][4],optimalparams[2][0][5],optimalparams[2][0][6]),\n",
    "moved_nearest(training_seg_cornonal[3],optimalparams[3][0][0],optimalparams[3][0][1],optimalparams[3][0][2],optimalparams[3][0][3], optimalparams[3][0][4],optimalparams[3][0][5],optimalparams[3][0][6]),\n",
    "moved_nearest(training_seg_cornonal[4],optimalparams[4][0][0],optimalparams[4][0][1],optimalparams[4][0][2],optimalparams[4][0][3], optimalparams[4][0][4],optimalparams[4][0][5],optimalparams[4][0][6]),\n",
    "moved_nearest(training_seg_cornonal[5],optimalparams[5][0][0],optimalparams[5][0][1],optimalparams[5][0][2],optimalparams[5][0][3], optimalparams[5][0][4],optimalparams[5][0][5],optimalparams[5][0][6])]\n",
    "\n",
    "seg_onto_val1 = [moved_nearest(training_seg_cornonal[0],optimalparams[0][1][0],optimalparams[0][1][1],optimalparams[0][1][2],optimalparams[0][1][3], optimalparams[0][1][4],optimalparams[0][1][5],optimalparams[0][1][6]),\n",
    "moved_nearest(training_seg_cornonal[1],optimalparams[1][1][0],optimalparams[1][1][1],optimalparams[1][1][2],optimalparams[1][1][3], optimalparams[1][1][4],optimalparams[1][1][5],optimalparams[1][1][6]),\n",
    "moved_nearest(training_seg_cornonal[2],optimalparams[2][1][0],optimalparams[2][1][1],optimalparams[2][1][2],optimalparams[2][1][3], optimalparams[2][1][4],optimalparams[2][1][5],optimalparams[2][1][6]),\n",
    "moved_nearest(training_seg_cornonal[3],optimalparams[3][1][0],optimalparams[3][1][1],optimalparams[3][1][2],optimalparams[3][1][3], optimalparams[3][1][4],optimalparams[3][1][5],optimalparams[3][1][6]),\n",
    "moved_nearest(training_seg_cornonal[4],optimalparams[4][1][0],optimalparams[4][1][1],optimalparams[4][1][2],optimalparams[4][1][3], optimalparams[4][1][4],optimalparams[4][1][5],optimalparams[4][1][6]),\n",
    "moved_nearest(training_seg_cornonal[5],optimalparams[5][1][0],optimalparams[5][1][1],optimalparams[5][1][2],optimalparams[5][1][3], optimalparams[5][1][4],optimalparams[5][1][5],optimalparams[5][1][6])]\n",
    "\n",
    "\n",
    "\n",
    "#here is part 4!\n",
    "\n",
    "grid0=np.zeros((256,256,6))\n",
    "grid1=np.zeros((256,256,6))\n",
    "\n",
    "\n",
    "\n",
    "#\"stacking\" each segmentation...\n",
    "\n",
    "for i in range(6):\n",
    "    for m in range(256):\n",
    "        for n in range(256):\n",
    "            \n",
    "            grid0[m][n][i]=seg_onto_val0[i][m][n]\n",
    "            grid1[m][n][i]=seg_onto_val1[i][m][n]\n",
    "        \n",
    "    \n",
    "\n",
    "#now want to find most frequent training label for each pixel across each of 6 images \n",
    "\n",
    "segmentation0=np.zeros((256,256))\n",
    "segmentation1=np.zeros((256,256))\n",
    "\n",
    "for m in range(256):\n",
    "    for n in range(256):\n",
    "        mode = stats.mode(grid0[m][n])[0]\n",
    "        \n",
    "        segmentation0[m][n]=mode[0]\n",
    "        \n",
    "        mode = stats.mode(grid1[m][n])[0]\n",
    "        segmentation1[m][n]=mode[0]\n",
    "\n"
   ]
  },
  {
   "cell_type": "markdown",
   "metadata": {},
   "source": [
    "Part 4 -- For every pixel on validation subject grid, compute the most frequent training\n",
    "label – this is called majority voting based label fusion. You can implement\n",
    "any tie-break strategy you want. This is a crude segmentation of the validation\n",
    "subjects."
   ]
  },
  {
   "cell_type": "markdown",
   "metadata": {},
   "source": [
    "### Jacarrd Computation:"
   ]
  },
  {
   "cell_type": "markdown",
   "metadata": {},
   "source": [
    "Write a function that computes the Jaccard overlap index for a given region of\n",
    "interest (ROI) between an input manual segmentation and an automatic segmentation. The Jaccard index is defined as the ratio between the area of the intersection and the area of the union, where the intersection and union are defined\n",
    "with respect to the manual segmentation and an automatic segmentation."
   ]
  },
  {
   "cell_type": "code",
   "execution_count": null,
   "metadata": {},
   "outputs": [],
   "source": [
    "#Jacarrd=abs(intersection/union)\n",
    "     \n",
    "\n",
    "def Jacarrd(auto_segmentation, manual_segmentation,roi):\n",
    "    \n",
    "   \n",
    "    auto_segmentation=np.array(auto_segmentation)\n",
    "\n",
    "    manual_segmentation=np.array(manual_segmentation)[:,:,0]\n",
    "    \n",
    "    #rescale:\n",
    "    auto_segmentation=auto_segmentation*manual_segmentation.max()/auto_segmentation.max()\n",
    "    \n",
    "    \n",
    "    numerator=0\n",
    "    denominator=0 \n",
    "    \n",
    "    for i in range(256):\n",
    "        for j in range(256):\n",
    "            #if auto_segmentation[i][j]!=0:\n",
    "               # print(auto_segmentation[i][j])\n",
    "            \n",
    "            if (manual_segmentation[i][j])==roi and (int(auto_segmentation[i][j])==roi):\n",
    "                numerator=numerator+1\n",
    "            \n",
    "                \n",
    "            if (manual_segmentation[i][j]==roi) or (int(auto_segmentation[i][j])==roi):\n",
    "                denominator=denominator+1\n",
    "\n",
    "    if denominator==0:\n",
    "        return 'divide by zero'\n",
    "    \n",
    "    return numerator/denominator\n",
    "\n"
   ]
  },
  {
   "cell_type": "markdown",
   "metadata": {},
   "source": [
    "Compute the Jaccard index for your automatic validation subject segmentations.\n",
    "Compile these in a table and print. Only consider following regions of interest\n",
    "(both left and right): Cerebral-White-Matter and Cerebral-Cortex."
   ]
  },
  {
   "cell_type": "code",
   "execution_count": null,
   "metadata": {
    "scrolled": true
   },
   "outputs": [],
   "source": [
    "#roi's:\n",
    "#  Left-Cerebral-White-Matter   2 \n",
    "#  Right-Cerebral-White-Matter  41       \n",
    "#  Left-Cerebral-Cortex         3        \n",
    "#  Right-Cerebral-Cortex        42    \n",
    "\n",
    "\n",
    "lcwm0=Jacarrd(segmentation0,validation_seg_coronal[0], 2)\n",
    "lcwm1=Jacarrd(segmentation1,validation_seg_coronal[1] ,2)\n",
    "\n",
    "rcwm0=Jacarrd(segmentation0,validation_seg_coronal[0],41)\n",
    "rcwm1=Jacarrd(segmentation1,validation_seg_coronal[1] ,41)\n",
    "\n",
    "lcc0=Jacarrd(segmentation0,validation_seg_coronal[0], 3)\n",
    "lcc1=Jacarrd(segmentation1,validation_seg_coronal[1] ,3)\n",
    "\n",
    "rcc0=Jacarrd(segmentation0,validation_seg_coronal[0], 42)\n",
    "rcc1=Jacarrd(segmentation1,validation_seg_coronal[1] ,42)\n",
    "\n",
    "\n",
    "x = PrettyTable()\n",
    "\n",
    "x.field_names = [\"Region Of Interest\", \"Segmentation 0 Jaccard\", \"Segmentation 1 Jaccard\"]\n",
    "\n",
    "x.add_row([\"Left-Cerebral-White-Matter\", lcwm0, lcwm1])\n",
    "x.add_row([\"Right-Cerebral-White-Matter\", rcwm0, rcwm1])\n",
    "x.add_row([\"Left-Cerebral-Cortex \", lcc0, lcc1])\n",
    "x.add_row([\"Right-Cerebral-Cortex\", rcc0, rcc1])\n",
    "\n",
    "print('Table of Jaccard Indexes')\n",
    "print(x)\n",
    "print('average:')\n",
    "print((lcwm0+lcwm1+rcwm0+rcwm1+lcc0+lcc1+rcc0+rcc1)/8)\n",
    "print('average - outliers:')\n",
    "print((lcwm0+lcwm1+rcwm1+lcc0+lcc1+rcc1)/6)"
   ]
  },
  {
   "cell_type": "markdown",
   "metadata": {},
   "source": [
    "# Testing Images"
   ]
  },
  {
   "cell_type": "markdown",
   "metadata": {},
   "source": [
    "Now all final optimizations..."
   ]
  },
  {
   "cell_type": "markdown",
   "metadata": {},
   "source": [
    "## Going to:\n",
    "\n",
    "map 6 training segs PLUS 2 validation segs onto each of the testing images\n",
    "    optimizer(fixed=testing, moving=training_segs)\n",
    "    now have 8 registered segmentations\n",
    "    get my final segmenation of that testing image by most frequent label of those 8!"
   ]
  },
  {
   "cell_type": "code",
   "execution_count": null,
   "metadata": {},
   "outputs": [],
   "source": [
    "def final_seg(testing_img):\n",
    "    \n",
    "    \n",
    "    optimalparams=[optimizer(testing_img,training_images_coronal[0][:,:,0])[1],optimizer(testing_img,training_images_coronal[1][:,:,0])[1],optimizer(testing_img,training_images_coronal[2][:,:,0])[1],optimizer(testing_img,training_images_coronal[3][:,:,0])[1],optimizer(testing_img,training_images_coronal[4][:,:,0])[1],optimizer(testing_img,training_images_coronal[5][:,:,0])[1], optimizer(testing_img, validation_images_coronal[0][:,:,0])[1], optimizer(testing_img, validation_images_coronal[1][:,:,0])[1]]\n",
    "\n",
    "    \n",
    "    stacked=[moved_nearest(training_seg_cornonal[0],optimalparams[0][0],optimalparams[0][1],optimalparams[0][2],optimalparams[0][3], optimalparams[0][4],optimalparams[0][5],optimalparams[0][6]),\n",
    "moved_nearest(training_seg_cornonal[1],optimalparams[1][0],optimalparams[1][1],optimalparams[1][2],optimalparams[1][3],optimalparams[1][4],optimalparams[1][5],optimalparams[1][6]),\n",
    "moved_nearest(training_seg_cornonal[2],optimalparams[2][0],optimalparams[2][1],optimalparams[2][2],optimalparams[2][3],optimalparams[2][4],optimalparams[2][5],optimalparams[2][6]),\n",
    "moved_nearest(training_seg_cornonal[3],optimalparams[3][0],optimalparams[3][1],optimalparams[3][2],optimalparams[3][3], optimalparams[3][4],optimalparams[3][5],optimalparams[3][6]),\n",
    "moved_nearest(training_seg_cornonal[4],optimalparams[4][0],optimalparams[4][1],optimalparams[4][2],optimalparams[4][3], optimalparams[4][4],optimalparams[4][5],optimalparams[4][6]),\n",
    "moved_nearest(training_seg_cornonal[5],optimalparams[5][0],optimalparams[5][1],optimalparams[5][2],optimalparams[5][3], optimalparams[5][4],optimalparams[5][5],optimalparams[5][6]),\n",
    "moved_nearest(validation_seg_coronal[0], optimalparams[6][0],optimalparams[6][1], optimalparams[6][2],optimalparams[6][3],optimalparams[6][4],optimalparams[6][5],optimalparams[6][6]), \n",
    "moved_nearest(validation_seg_coronal[1], optimalparams[7][0],optimalparams[7][1], optimalparams[7][2],optimalparams[7][3],optimalparams[7][4],optimalparams[7][5],optimalparams[7][6])]\n",
    "\n",
    "    mftl=np.zeros((256,256))\n",
    "    grid=np.zeros((256,256,8))\n",
    "               \n",
    "    for m in range(256):\n",
    "        for n in range(256):\n",
    "            for i in range(8):\n",
    "                grid[m][n][i]=stacked[i][m][n]\n",
    "                \n",
    "   \n",
    "    for m in range(256):\n",
    "        for n in range(256):\n",
    "            mode = stats.mode(grid[m][n])[0]\n",
    "            mftl[m][n]=mode\n",
    "            \n",
    "    #most frequent training label, same as before^    \n",
    "    \n",
    "                   \n",
    "    return mftl, stacked\n"
   ]
  },
  {
   "cell_type": "code",
   "execution_count": null,
   "metadata": {},
   "outputs": [],
   "source": [
    "myseg, stacked = final_seg(testingcoronal[0][:,:,0])\n",
    "print('1!!')\n",
    "myseg1, stacked1 = final_seg(testingcoronal[1][:,:,0])\n",
    "print('2!!!!')\n",
    "myseg2, stacked2 = final_seg(testingcoronal[2][:,:,0])\n",
    "print('3!!!!')\n",
    "myseg3, stacked3 = final_seg(testingcoronal[3][:,:,0])\n",
    "print('4!!!!')\n",
    "myseg4, stacked4 = final_seg(testingcoronal[4][:,:,0])\n",
    "print('5!!!!')\n",
    "myseg5, stacked5 = final_seg(testingcoronal[5][:,:,0])\n",
    "print('6!!!!')\n",
    "myseg6, stacked6 = final_seg(testingcoronal[6][:,:,0])\n",
    "print('7!!!!')\n",
    "myseg7, stacked7 = final_seg(testingcoronal[7][:,:,0])\n",
    "print('8!!!!')\n",
    "myseg8, stacked8 = final_seg(testingcoronal[8][:,:,0])\n",
    "print('9!!!!')"
   ]
  },
  {
   "cell_type": "code",
   "execution_count": null,
   "metadata": {},
   "outputs": [],
   "source": [
    "'''Binary mask of auto segmentation, ROI=1, else=0'''\n",
    "\n",
    "def get_binary(seg, roi):\n",
    "    binary=np.zeros((256,256))\n",
    "    for m in range(256):\n",
    "        for n in range(256):\n",
    "            if round(seg[m][n])==roi:\n",
    "                binary[m][n]=1\n",
    "    return binary\n",
    "\n"
   ]
  },
  {
   "cell_type": "code",
   "execution_count": null,
   "metadata": {},
   "outputs": [],
   "source": [
    "#test 8\n",
    "b8_2=get_binary(myseg, 2)\n",
    "b8_3=get_binary(myseg, 3)\n",
    "b8_41=get_binary(myseg, 41)\n",
    "b8_42=get_binary(myseg, 42)\n",
    "\n",
    "#test 9\n",
    "b9_2=get_binary(myseg1, 2)\n",
    "b9_3=get_binary(myseg1, 3)\n",
    "b9_41=get_binary(myseg1, 41)\n",
    "b9_42=get_binary(myseg1, 42)\n",
    "\n",
    "#test 9\n",
    "b10_2=get_binary(myseg2, 2)\n",
    "b10_3=get_binary(myseg2, 3)\n",
    "b10_41=get_binary(myseg2, 41)\n",
    "b10_42=get_binary(myseg1, 42)\n",
    "\n",
    "#test 11\n",
    "b11_2=get_binary(myseg3, 2)\n",
    "b11_3=get_binary(myseg3, 3)\n",
    "b11_41=get_binary(myseg3, 41)\n",
    "b11_42=get_binary(myseg3, 42)\n",
    "\n",
    "#test 12\n",
    "b12_2=get_binary(myseg4, 2)\n",
    "b12_3=get_binary(myseg4, 3)\n",
    "b12_41=get_binary(myseg4, 41)\n",
    "b12_42=get_binary(myseg4, 42)\n",
    "\n",
    "#test 13\n",
    "b13_2=get_binary(myseg5, 2)\n",
    "b13_3=get_binary(myseg5, 3)\n",
    "b13_41=get_binary(myseg5, 41)\n",
    "b13_42=get_binary(myseg5, 42)\n",
    "\n",
    "#test 14\n",
    "b14_2=get_binary(myseg6, 2)\n",
    "b14_3=get_binary(myseg6, 3)\n",
    "b14_41=get_binary(myseg6, 41)\n",
    "b14_42=get_binary(myseg6, 42)\n",
    "\n",
    "\n",
    "#test 16\n",
    "b16_2=get_binary(myseg7, 2)\n",
    "b16_3=get_binary(myseg7, 3)\n",
    "b16_41=get_binary(myseg7, 41)\n",
    "b16_42=get_binary(myseg7, 42)\n",
    "\n",
    "\n",
    "#test 17\n",
    "b17_2=get_binary(myseg8, 2)\n",
    "b17_3=get_binary(myseg8, 3)\n",
    "b17_41=get_binary(myseg8, 41)\n",
    "b17_42=get_binary(myseg8, 42)\n",
    "\n"
   ]
  },
  {
   "cell_type": "code",
   "execution_count": null,
   "metadata": {},
   "outputs": [],
   "source": [
    "def rle_encode(img):\n",
    "    '''\n",
    "    img: numpy array, 1 - mask, 0 - background\n",
    "    Returns run length as string formated\n",
    "    '''\n",
    "    pixels = img.flatten()\n",
    "    pixels = np.concatenate([[0], pixels, [0]])\n",
    "    runs = np.where(pixels[1:] != pixels[:-1])[0] + 1\n",
    "    runs[1::2] -= runs[::2]\n",
    "    return ' '.join(str(x) for x in runs)"
   ]
  },
  {
   "cell_type": "code",
   "execution_count": null,
   "metadata": {},
   "outputs": [],
   "source": [
    "for i in [b8_2,b8_3,b8_41,b8_42]:\n",
    "    print(rle_encode(i))\n"
   ]
  },
  {
   "cell_type": "code",
   "execution_count": null,
   "metadata": {
    "scrolled": false
   },
   "outputs": [],
   "source": [
    "for i in [b9_2,b9_3,b9_41,b9_42]:\n",
    "    print(rle_encode(i))\n"
   ]
  },
  {
   "cell_type": "code",
   "execution_count": null,
   "metadata": {},
   "outputs": [],
   "source": [
    "for i in [b10_2,b10_3,b10_41,b10_42]:\n",
    "    print(rle_encode(i))\n"
   ]
  },
  {
   "cell_type": "code",
   "execution_count": null,
   "metadata": {
    "scrolled": false
   },
   "outputs": [],
   "source": [
    "for i in [b11_2,b11_3,b11_41,b11_42]:\n",
    "    print(rle_encode(i))\n"
   ]
  },
  {
   "cell_type": "code",
   "execution_count": null,
   "metadata": {},
   "outputs": [],
   "source": [
    "for i in [b12_2,b12_3,b12_41,b12_42]:\n",
    "    print(rle_encode(i))\n"
   ]
  },
  {
   "cell_type": "code",
   "execution_count": null,
   "metadata": {
    "scrolled": false
   },
   "outputs": [],
   "source": [
    "for i in [b13_2,b13_3,b13_41,b13_42]:\n",
    "    print(rle_encode(i))\n"
   ]
  },
  {
   "cell_type": "code",
   "execution_count": null,
   "metadata": {},
   "outputs": [],
   "source": [
    "for i in [b14_2,b14_3,b14_41,b14_42]:\n",
    "    print(rle_encode(i))\n"
   ]
  },
  {
   "cell_type": "code",
   "execution_count": null,
   "metadata": {
    "scrolled": false
   },
   "outputs": [],
   "source": [
    "for i in [b16_2,b16_3,b16_41,b16_42]:\n",
    "    print(rle_encode(i))\n"
   ]
  },
  {
   "cell_type": "code",
   "execution_count": null,
   "metadata": {
    "scrolled": false
   },
   "outputs": [],
   "source": [
    "for i in [b17_2,b17_3,b17_41,b17_42]:\n",
    "    print(rle_encode(i))"
   ]
  },
  {
   "cell_type": "code",
   "execution_count": null,
   "metadata": {},
   "outputs": [],
   "source": []
  },
  {
   "cell_type": "code",
   "execution_count": null,
   "metadata": {},
   "outputs": [],
   "source": []
  }
 ],
 "metadata": {
  "kernelspec": {
   "display_name": "Python 3",
   "language": "python",
   "name": "python3"
  },
  "language_info": {
   "codemirror_mode": {
    "name": "ipython",
    "version": 3
   },
   "file_extension": ".py",
   "mimetype": "text/x-python",
   "name": "python",
   "nbconvert_exporter": "python",
   "pygments_lexer": "ipython3",
   "version": "3.7.1"
  }
 },
 "nbformat": 4,
 "nbformat_minor": 2
}
